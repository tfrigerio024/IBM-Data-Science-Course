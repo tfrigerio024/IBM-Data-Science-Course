{
 "cells": [
  {
   "cell_type": "markdown",
   "id": "dd12eb99-1939-4149-8ed4-792bded9784a",
   "metadata": {},
   "source": [
    "Create a new Jupyter notebook called DataScienceEcosystem.ipynb"
   ]
  },
  {
   "cell_type": "markdown",
   "id": "a722cdcf-28a7-48a7-b1eb-57738727f9fd",
   "metadata": {},
   "source": [
    "# Data Science Tools and Ecosystem"
   ]
  },
  {
   "cell_type": "markdown",
   "id": "0eecf94f-eb42-486e-be90-6859f05207b6",
   "metadata": {},
   "source": [
    "In this notebook, Data Science Tools and Ecosystem are summarized."
   ]
  },
  {
   "cell_type": "code",
   "execution_count": null,
   "id": "39fa374d-a476-4202-8757-a54470338dd8",
   "metadata": {},
   "outputs": [],
   "source": []
  },
  {
   "cell_type": "markdown",
   "id": "94006f5e-dfa5-4233-ab55-48a56b22ed2e",
   "metadata": {},
   "source": [
    "Some of the popular languages that Data Scientists use are:\n",
    "1. Python \n",
    "2. R\n",
    "3. C++\n",
    "4. SQL"
   ]
  },
  {
   "cell_type": "markdown",
   "id": "a955d6fb-7d16-4a88-9b8c-bd348cc8c4f3",
   "metadata": {},
   "source": [
    "Some of the commonly used libraries used by Data Scientists include:\n",
    "1. GGplot\n",
    "2. Pandas\n",
    "3. NumPy\n",
    "4. Seaborn\n",
    "5. Scikit-learn\n",
    "6. Pytorchta \r\n"
   ]
  },
  {
   "cell_type": "markdown",
   "id": "fee996fb-7799-4e44-8fa6-9270839f6e88",
   "metadata": {},
   "source": [
    "|Data Science Tools|\n",
    "|------------------|\n",
    "|Hadoop            |\n",
    "|My SQL            |\n",
    "|Hive              |\n"
   ]
  },
  {
   "cell_type": "markdown",
   "id": "a7c40c06-5d03-440f-95a7-b631f640438b",
   "metadata": {},
   "source": [
    "### Below are a few examples of evaluating arithmetic expressions in Python\n",
    "\n"
   ]
  },
  {
   "cell_type": "code",
   "execution_count": 6,
   "id": "7cd3ed70-7954-44c1-bb93-b541c727e70c",
   "metadata": {},
   "outputs": [
    {
     "name": "stdout",
     "output_type": "stream",
     "text": [
      "17\n"
     ]
    }
   ],
   "source": [
    "#This a simple arithmetic expression to mutiply then add integers\n",
    "x=(3*4)+5\n",
    "print(x)"
   ]
  },
  {
   "cell_type": "code",
   "execution_count": 7,
   "id": "6d8c5ffb-6535-4d4d-9c34-4fc9c7949a0a",
   "metadata": {},
   "outputs": [
    {
     "name": "stdout",
     "output_type": "stream",
     "text": [
      "3.3333333333333335\n"
     ]
    }
   ],
   "source": [
    "#This will convert 200 minutes to hours by diving by 60\n",
    "\n",
    "convert=60\n",
    "minutes=200 \n",
    "hours=minutes/convert\n",
    "print(hours)"
   ]
  },
  {
   "cell_type": "markdown",
   "id": "4d7fb3a1-b991-4328-b9e1-1b10ddc17ada",
   "metadata": {},
   "source": [
    "**Objectives**\n",
    "- DS Languages\n",
    "- Create arithmetic expressions\n",
    "- import libraries such as pandas and numpy\n"
   ]
  },
  {
   "cell_type": "markdown",
   "id": "4a50453d-0483-4231-9ab9-c04369a9f5fa",
   "metadata": {},
   "source": [
    "## Author\n",
    "Trinidad Frigerio"
   ]
  },
  {
   "cell_type": "code",
   "execution_count": null,
   "id": "38c0f528-41a3-42b8-ab59-339d4fb3ba74",
   "metadata": {},
   "outputs": [],
   "source": []
  }
 ],
 "metadata": {
  "kernelspec": {
   "display_name": "Python 3 (ipykernel)",
   "language": "python",
   "name": "python3"
  },
  "language_info": {
   "codemirror_mode": {
    "name": "ipython",
    "version": 3
   },
   "file_extension": ".py",
   "mimetype": "text/x-python",
   "name": "python",
   "nbconvert_exporter": "python",
   "pygments_lexer": "ipython3",
   "version": "3.12.4"
  }
 },
 "nbformat": 4,
 "nbformat_minor": 5
}
